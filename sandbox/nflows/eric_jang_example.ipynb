{
 "cells": [
  {
   "cell_type": "markdown",
   "metadata": {},
   "source": [
    "# Normalizing Flows Tutorial Part 1\n",
    "\n",
    "2D invertible MLP on a toy dataset.\n",
    "\n",
    "Copyright 2018 Eric Jang"
   ]
  },
  {
   "cell_type": "code",
   "execution_count": 1,
   "metadata": {},
   "outputs": [],
   "source": [
    "import numpy as np\n",
    "import matplotlib.pyplot as plt\n",
    "%matplotlib inline\n",
    "import tensorflow as tf\n",
    "tfd = tf.contrib.distributions\n",
    "tfb = tfd.bijectors"
   ]
  },
  {
   "cell_type": "code",
   "execution_count": 2,
   "metadata": {},
   "outputs": [],
   "source": [
    "tf.set_random_seed(0)\n",
    "#tf.set_random_seed(17)"
   ]
  },
  {
   "cell_type": "code",
   "execution_count": 3,
   "metadata": {},
   "outputs": [],
   "source": [
    "sess = tf.InteractiveSession()"
   ]
  },
  {
   "cell_type": "code",
   "execution_count": 4,
   "metadata": {},
   "outputs": [],
   "source": [
    "batch_size=512\n",
    "DTYPE=tf.float32\n",
    "NP_DTYPE=np.float32"
   ]
  },
  {
   "cell_type": "markdown",
   "metadata": {},
   "source": [
    "## Target Density"
   ]
  },
  {
   "cell_type": "code",
   "execution_count": 5,
   "metadata": {},
   "outputs": [
    {
     "data": {
      "image/png": "[encoded data removed]",
      "text/plain": [
       "<Figure size 432x288 with 1 Axes>"
      ]
     },
     "metadata": {
      "needs_background": "light"
     },
     "output_type": "display_data"
    }
   ],
   "source": [
    "DATASET = 1\n",
    "if DATASET == 0:\n",
    "    mean = [0.4, 1]\n",
    "    A = np.array([[2, .3], [-1., 4]])\n",
    "    cov = A.T.dot(A)\n",
    "    print(mean)\n",
    "    print(cov)\n",
    "    X = np.random.multivariate_normal(mean, cov, 2000)\n",
    "    plt.scatter(X[:, 0], X[:, 1], s=10, color='red')\n",
    "    dataset = tf.data.Dataset.from_tensor_slices(X.astype(NP_DTYPE))\n",
    "    dataset = dataset.repeat()\n",
    "    dataset = dataset.shuffle(buffer_size=X.shape[0])\n",
    "    dataset = dataset.prefetch(3 * batch_size)\n",
    "    dataset = dataset.batch(batch_size)\n",
    "    data_iterator = dataset.make_one_shot_iterator()\n",
    "    x_samples = data_iterator.get_next()\n",
    "elif DATASET == 1:\n",
    "    x2_dist = tfd.Normal(loc=0., scale=4.)\n",
    "    x2_samples = x2_dist.sample(batch_size)\n",
    "    x1 = tfd.Normal(loc=.25 * tf.square(x2_samples),\n",
    "                    scale=tf.ones(batch_size, dtype=DTYPE))\n",
    "    x1_samples = x1.sample()\n",
    "    x_samples = tf.stack([x1_samples, x2_samples], axis=1)\n",
    "    np_samples = sess.run(x_samples)\n",
    "    plt.scatter(np_samples[:, 0], np_samples[:, 1], s=10, color='red')\n",
    "    plt.xlim([-5, 30])\n",
    "    plt.ylim([-10, 10])"
   ]
  },
  {
   "cell_type": "markdown",
   "metadata": {},
   "source": [
    "## Construct Flow"
   ]
  },
  {
   "cell_type": "code",
   "execution_count": 6,
   "metadata": {},
   "outputs": [],
   "source": [
    "base_dist = tfd.MultivariateNormalDiag(loc=tf.zeros([2], DTYPE))"
   ]
  },
  {
   "cell_type": "code",
   "execution_count": 7,
   "metadata": {},
   "outputs": [],
   "source": [
    "# quite easy to interpret - multiplying by alpha causes a contraction in volume.\n",
    "class LeakyReLU(tfb.Bijector):\n",
    "    def __init__(self, alpha=0.5, validate_args=False, name=\"leaky_relu\"):\n",
    "        super(LeakyReLU, self).__init__(\n",
    "            event_ndims=1, validate_args=validate_args, name=name)\n",
    "        self.alpha = alpha\n",
    "\n",
    "    def _forward(self, x):\n",
    "        return tf.where(tf.greater_equal(x, 0), x, self.alpha * x)\n",
    "\n",
    "    def _inverse(self, y):\n",
    "        return tf.where(tf.greater_equal(y, 0), y, 1. / self.alpha * y)\n",
    "\n",
    "    def _inverse_log_det_jacobian(self, y):\n",
    "        event_dims = self._event_dims_tensor(y)\n",
    "        I = tf.ones_like(y)\n",
    "        J_inv = tf.where(tf.greater_equal(y, 0), I, 1.0 / self.alpha * I)\n",
    "        # abs is actually redundant here, since this det Jacobian is > 0\n",
    "        log_abs_det_J_inv = tf.log(tf.abs(J_inv))\n",
    "        return tf.reduce_sum(log_abs_det_J_inv, axis=event_dims)"
   ]
  },
  {
   "cell_type": "code",
   "execution_count": 8,
   "metadata": {},
   "outputs": [],
   "source": [
    "d, r = 2, 2\n",
    "bijectors = []\n",
    "num_layers = 6\n",
    "for i in range(num_layers):\n",
    "    with tf.variable_scope('bijector_%d' % i):\n",
    "        V = tf.get_variable('V', [d, r], dtype=DTYPE)  # factor loading\n",
    "        shift = tf.get_variable('shift', [d], dtype=DTYPE)  # affine shift\n",
    "        L = tf.get_variable('L', [d * (d + 1) / 2],\n",
    "                            dtype=DTYPE)  # lower triangular\n",
    "        bijectors.append(tfb.Affine(\n",
    "            scale_tril=tfd.fill_triangular(L),\n",
    "            scale_perturb_factor=V,\n",
    "            shift=shift,\n",
    "        ))\n",
    "        alpha = tf.abs(tf.get_variable('alpha', [], dtype=DTYPE)) + .01\n",
    "        bijectors.append(LeakyReLU(alpha=alpha))\n",
    "# Last layer is affine. Note that tfb.Chain takes a list of bijectors in the *reverse* order\n",
    "# that they are applied..\n",
    "mlp_bijector = tfb.Chain(\n",
    "    list(reversed(bijectors[:-1])), name='2d_mlp_bijector')"
   ]
  },
  {
   "cell_type": "code",
   "execution_count": 9,
   "metadata": {},
   "outputs": [],
   "source": [
    "dist = tfd.TransformedDistribution(\n",
    "    distribution=base_dist,\n",
    "    bijector=mlp_bijector\n",
    ")"
   ]
  },
  {
   "cell_type": "markdown",
   "metadata": {},
   "source": [
    "## Visualization (before training)"
   ]
  },
  {
   "cell_type": "code",
   "execution_count": 10,
   "metadata": {},
   "outputs": [],
   "source": [
    "# visualization\n",
    "x = base_dist.sample(512)\n",
    "samples = [x]\n",
    "names = [base_dist.name]\n",
    "for bijector in reversed(dist.bijector.bijectors):\n",
    "    x = bijector.forward(x)\n",
    "    samples.append(x)\n",
    "    names.append(bijector.name)"
   ]
  },
  {
   "cell_type": "code",
   "execution_count": 11,
   "metadata": {},
   "outputs": [],
   "source": [
    "sess.run(tf.global_variables_initializer())"
   ]
  },
  {
   "cell_type": "code",
   "execution_count": null,
   "metadata": {},
   "outputs": [],
   "source": [
    "results = sess.run(samples)\n",
    "f, arr = plt.subplots(1, len(results), figsize=(4 * (len(results)), 4))\n",
    "X0 = results[0]\n",
    "for i in range(len(results)):\n",
    "    X1 = results[i]\n",
    "    idx = np.logical_and(X0[:, 0] < 0, X0[:, 1] < 0)\n",
    "    arr[i].scatter(X1[idx, 0], X1[idx, 1], s=10, color='red')\n",
    "    idx = np.logical_and(X0[:, 0] > 0, X0[:, 1] < 0)\n",
    "    arr[i].scatter(X1[idx, 0], X1[idx, 1], s=10, color='green')\n",
    "    idx = np.logical_and(X0[:, 0] < 0, X0[:, 1] > 0)\n",
    "    arr[i].scatter(X1[idx, 0], X1[idx, 1], s=10, color='blue')\n",
    "    idx = np.logical_and(X0[:, 0] > 0, X0[:, 1] > 0)\n",
    "    arr[i].scatter(X1[idx, 0], X1[idx, 1], s=10, color='black')\n",
    "    arr[i].set_xlim([-2, 2])\n",
    "    arr[i].set_ylim([-2, 2])\n",
    "    arr[i].set_title(names[i])"
   ]
  },
  {
   "cell_type": "markdown",
   "metadata": {},
   "source": [
    "## Optimize Flow"
   ]
  },
  {
   "cell_type": "code",
   "execution_count": null,
   "metadata": {},
   "outputs": [],
   "source": [
    "loss = -tf.reduce_mean(dist.log_prob(x_samples))\n",
    "train_op = tf.train.AdamOptimizer(1e-3).minimize(loss)"
   ]
  },
  {
   "cell_type": "code",
   "execution_count": null,
   "metadata": {},
   "outputs": [],
   "source": [
    "sess.run(tf.global_variables_initializer())"
   ]
  },
  {
   "cell_type": "code",
   "execution_count": null,
   "metadata": {},
   "outputs": [],
   "source": [
    "NUM_STEPS = int(1e5)\n",
    "global_step = []\n",
    "np_losses = []\n",
    "for i in range(NUM_STEPS):\n",
    "    _, np_loss = sess.run([train_op, loss])\n",
    "    if i % 1000 == 0:\n",
    "        global_step.append(i)\n",
    "        np_losses.append(np_loss)\n",
    "    if i % int(1e4) == 0:\n",
    "        print(i, np_loss)\n",
    "start = 10\n",
    "plt.plot(np_losses[start:])"
   ]
  },
  {
   "cell_type": "code",
   "execution_count": null,
   "metadata": {},
   "outputs": [],
   "source": [
    "sess.run([loss])"
   ]
  },
  {
   "cell_type": "code",
   "execution_count": null,
   "metadata": {},
   "outputs": [],
   "source": [
    "results = sess.run(samples)\n",
    "f, arr = plt.subplots(1, len(results), figsize=(4 * (len(results)), 4))\n",
    "X0 = results[0]\n",
    "for i in range(len(results)):\n",
    "    X1 = results[i]\n",
    "    idx = np.logical_and(X0[:, 0] < 0, X0[:, 1] < 0)\n",
    "    arr[i].scatter(X1[idx, 0], X1[idx, 1], s=10, color='red')\n",
    "    idx = np.logical_and(X0[:, 0] > 0, X0[:, 1] < 0)\n",
    "    arr[i].scatter(X1[idx, 0], X1[idx, 1], s=10, color='green')\n",
    "    idx = np.logical_and(X0[:, 0] < 0, X0[:, 1] > 0)\n",
    "    arr[i].scatter(X1[idx, 0], X1[idx, 1], s=10, color='blue')\n",
    "    idx = np.logical_and(X0[:, 0] > 0, X0[:, 1] > 0)\n",
    "    arr[i].scatter(X1[idx, 0], X1[idx, 1], s=10, color='black')\n",
    "    #arr[i].set_xlim([-2, 2])\n",
    "    #arr[i].set_ylim([-2, 2])\n",
    "    arr[i].set_title(names[i])\n",
    "plt.savefig('toy2d_flow.png', dpi=300)"
   ]
  },
  {
   "cell_type": "code",
   "execution_count": null,
   "metadata": {},
   "outputs": [],
   "source": [
    "X1 = sess.run(dist.sample(4000))\n",
    "plt.scatter(X1[:, 0], X1[:, 1], color='red', s=2)\n",
    "arr[i].set_xlim([-2.5, 2.5])\n",
    "arr[i].set_ylim([-.5, .5])\n",
    "plt.savefig('toy2d_out.png', dpi=300)"
   ]
  },
  {
   "cell_type": "code",
   "execution_count": null,
   "metadata": {},
   "outputs": [],
   "source": [
    "import pickle"
   ]
  },
  {
   "cell_type": "code",
   "execution_count": null,
   "metadata": {},
   "outputs": [],
   "source": [
    "with open(\"bijector_params\", \"wb\") as f:\n",
    "    pickle.dump(dict([(v.name, sess.run(v)) for v in tf.trainable_variables()]), f)"
   ]
  },
  {
   "cell_type": "code",
   "execution_count": null,
   "metadata": {},
   "outputs": [],
   "source": [
    "with open(\"bijector_params\", \"rb\") as f:\n",
    "    d = pickle.load(f)"
   ]
  },
  {
   "cell_type": "code",
   "execution_count": null,
   "metadata": {},
   "outputs": [],
   "source": [
    "len(bijectors)"
   ]
  },
  {
   "cell_type": "code",
   "execution_count": 13,
   "metadata": {},
   "outputs": [],
   "source": [
    "shifts = []"
   ]
  },
  {
   "cell_type": "code",
   "execution_count": 14,
   "metadata": {},
   "outputs": [
    {
     "name": "stdout",
     "output_type": "stream",
     "text": [
      "\n",
      "A_0: \n",
      "[[ 0.79702854 -0.8238202 ]\n",
      " [-0.7354582   1.3586649 ]]\n",
      "\n",
      "A_1: \n",
      "[[ 1.862932  -1.1011633]\n",
      " [-1.6567787  1.8592273]]\n",
      "\n",
      "A_2: \n",
      "[[ 1.8950939  -0.72298837]\n",
      " [-0.91978335 -0.49622265]]\n",
      "\n",
      "A_3: \n",
      "[[ 0.82835746 -1.225366  ]\n",
      " [-1.4911011   1.6248527 ]]\n",
      "\n",
      "A_4: \n",
      "[[0.5657109  0.06859485]\n",
      " [0.47791162 0.25023407]]\n",
      "\n",
      "A_5: \n",
      "[[ 1.7694982 -0.1374088]\n",
      " [ 0.4529764  1.5042667]]\n"
     ]
    }
   ],
   "source": [
    "d, r = 2, 2\n",
    "\n",
    "for i in range(num_layers):\n",
    "    with tf.variable_scope('bijector_%d' % i, reuse=tf.AUTO_REUSE):\n",
    "        V = tf.get_variable('V')  # factor loading\n",
    "        L = tf.get_variable('L')  # lower triangular\n",
    "        shifts.append(sess.run(tf.get_variable(\"shift\")))\n",
    "        \n",
    "        print(f\"\\nA_{i}: \")\n",
    "        print(sess.run(\n",
    "            tfd.fill_triangular(L) + \n",
    "            V @ tf.eye(2) @ tf.transpose(V)\n",
    "        ))"
   ]
  },
  {
   "cell_type": "code",
   "execution_count": 15,
   "metadata": {},
   "outputs": [
    {
     "name": "stdout",
     "output_type": "stream",
     "text": [
      "\n",
      "L_0: \n",
      "[ 0.37098336  0.08836198 -0.93994474]\n",
      "\n",
      "L_1: \n",
      "[ 0.8135941  -0.5556154  -0.67611027]\n",
      "\n",
      "L_2: \n",
      "[-0.97998476 -0.19679499 -0.24357557]\n",
      "\n",
      "L_3: \n",
      "[ 0.43265867 -0.26573515 -0.47300053]\n",
      "\n",
      "L_4: \n",
      "[-0.3045931   0.40931678  0.12242842]\n",
      "\n",
      "L_5: \n",
      "[0.8362868 0.5903852 0.3948748]\n",
      "\n",
      "V_0: \n",
      "[[ 0.87902796 -0.9819792 ]\n",
      " [ 0.15876472  0.98105824]]\n",
      "\n",
      "V_1: \n",
      "[[ 1.064592    1.1856164 ]\n",
      " [ 0.09909582 -1.0177491 ]]\n",
      "\n",
      "V_2: \n",
      "[[ 1.0048686  -1.0625011 ]\n",
      " [-0.6951492   0.02301621]]\n",
      "\n",
      "V_3: \n",
      "[[ 1.0142518  0.5221602]\n",
      " [-0.8653501 -0.6658552]]\n",
      "\n",
      "V_4: \n",
      "[[-0.00799739  0.66574657]\n",
      " [-0.73889196  0.09415841]]\n",
      "\n",
      "V_5: \n",
      "[[-1.1013157   0.40215302]\n",
      " [-0.1673516  -0.7999834 ]]\n"
     ]
    }
   ],
   "source": [
    "d, r = 2, 2\n",
    "\n",
    "for i in range(num_layers):\n",
    "    with tf.variable_scope('bijector_%d' % i, reuse=tf.AUTO_REUSE):\n",
    "        L = tf.get_variable('L')  # lower triangular\n",
    "        \n",
    "        print(f\"\\nL_{i}: \\n{sess.run(L)}\")\n",
    "        \n",
    "for i in range(num_layers):\n",
    "    with tf.variable_scope('bijector_%d' % i, reuse=tf.AUTO_REUSE):\n",
    "        V = tf.get_variable('V')  # factor loading\n",
    "        print(f\"\\nV_{i}: \\n{sess.run(V)}\")"
   ]
  },
  {
   "cell_type": "code",
   "execution_count": null,
   "metadata": {},
   "outputs": [],
   "source": [
    "prev = np.array([1, 0], dtype=np.float32)\n",
    "\n",
    "for i, bij in enumerate(reversed(mlp_bijector._bijectors)):\n",
    "    print(prev)\n",
    "    next_ = sess.run(\n",
    "        bij.forward(prev)\n",
    "    )\n",
    "    prev = next_\n",
    "        \n",
    "print(prev)"
   ]
  },
  {
   "cell_type": "code",
   "execution_count": null,
   "metadata": {},
   "outputs": [],
   "source": [
    "As = [\n",
    "    [[12.666909,  -3.2123168],\n",
    "     [-3.8751755,  1.0632172]],\n",
    "\n",
    "    [[0.8707053, 1.1683432],\n",
    "     [0.0598104, 1.2055824]],\n",
    "\n",
    "    [[0.2163449, 0.3574212],\n",
    "     [0.875208,  0.3780005]],\n",
    "\n",
    "    [[1.7268234,  0.33141184],\n",
    "     [0.10429177, 0.50915474]],\n",
    "\n",
    "    [[ 2.8008046, -1.29002  ],\n",
    "     [-1.6140362,  4.5898643]],\n",
    "\n",
    "    [[ 4.045219,    0.08481489],\n",
    "     [ 0.25647464, -0.6058725 ]],\n",
    "]\n",
    "matrices = list(map(np.array, As))"
   ]
  },
  {
   "cell_type": "code",
   "execution_count": 12,
   "metadata": {},
   "outputs": [
    {
     "ename": "NameError",
     "evalue": "name 'shifts' is not defined",
     "output_type": "error",
     "traceback": [
      "\u001b[0;31m---------------------------------------------------------------------------\u001b[0m",
      "\u001b[0;31mNameError\u001b[0m                                 Traceback (most recent call last)",
      "\u001b[0;32m<ipython-input-12-9d4937f6bff5>\u001b[0m in \u001b[0;36m<module>\u001b[0;34m\u001b[0m\n\u001b[1;32m      2\u001b[0m \u001b[0mbijs\u001b[0m \u001b[0;34m=\u001b[0m \u001b[0mlist\u001b[0m\u001b[0;34m(\u001b[0m\u001b[0mreversed\u001b[0m\u001b[0;34m(\u001b[0m\u001b[0mmlp_bijector\u001b[0m\u001b[0;34m.\u001b[0m\u001b[0mbijectors\u001b[0m\u001b[0;34m)\u001b[0m\u001b[0;34m)\u001b[0m\u001b[0;34m\u001b[0m\u001b[0;34m\u001b[0m\u001b[0m\n\u001b[1;32m      3\u001b[0m \u001b[0malphas\u001b[0m \u001b[0;34m=\u001b[0m \u001b[0;34m[\u001b[0m\u001b[0;34m]\u001b[0m\u001b[0;34m\u001b[0m\u001b[0;34m\u001b[0m\u001b[0m\n\u001b[0;32m----> 4\u001b[0;31m \u001b[0;32mfor\u001b[0m \u001b[0mi\u001b[0m\u001b[0;34m,\u001b[0m \u001b[0;34m(\u001b[0m\u001b[0mshift\u001b[0m\u001b[0;34m,\u001b[0m \u001b[0mA\u001b[0m\u001b[0;34m)\u001b[0m \u001b[0;32min\u001b[0m \u001b[0menumerate\u001b[0m\u001b[0;34m(\u001b[0m\u001b[0mzip\u001b[0m\u001b[0;34m(\u001b[0m\u001b[0mshifts\u001b[0m\u001b[0;34m[\u001b[0m\u001b[0;34m:\u001b[0m\u001b[0;34m-\u001b[0m\u001b[0;36m1\u001b[0m\u001b[0;34m]\u001b[0m\u001b[0;34m,\u001b[0m \u001b[0mAs\u001b[0m\u001b[0;34m[\u001b[0m\u001b[0;34m:\u001b[0m\u001b[0;34m-\u001b[0m\u001b[0;36m1\u001b[0m\u001b[0;34m]\u001b[0m\u001b[0;34m)\u001b[0m\u001b[0;34m)\u001b[0m\u001b[0;34m:\u001b[0m\u001b[0;34m\u001b[0m\u001b[0;34m\u001b[0m\u001b[0m\n\u001b[0m\u001b[1;32m      5\u001b[0m     \u001b[0mprint\u001b[0m\u001b[0;34m(\u001b[0m\u001b[0mprev\u001b[0m\u001b[0;34m)\u001b[0m\u001b[0;34m\u001b[0m\u001b[0;34m\u001b[0m\u001b[0m\n\u001b[1;32m      6\u001b[0m     \u001b[0mprev\u001b[0m \u001b[0;34m=\u001b[0m \u001b[0msess\u001b[0m\u001b[0;34m.\u001b[0m\u001b[0mrun\u001b[0m\u001b[0;34m(\u001b[0m\u001b[0mA\u001b[0m \u001b[0;34m@\u001b[0m \u001b[0mprev\u001b[0m \u001b[0;34m+\u001b[0m \u001b[0mshift\u001b[0m\u001b[0;34m)\u001b[0m\u001b[0;34m\u001b[0m\u001b[0;34m\u001b[0m\u001b[0m\n",
      "\u001b[0;31mNameError\u001b[0m: name 'shifts' is not defined"
     ]
    }
   ],
   "source": [
    "prev = np.array([1, 0], dtype=np.float32)\n",
    "bijs = list(reversed(mlp_bijector.bijectors))\n",
    "alphas = []\n",
    "for i, (shift, A) in enumerate(zip(shifts[:-1], As[:-1])):\n",
    "    print(prev)\n",
    "    prev = sess.run(A @ prev + shift)\n",
    "    print(prev)\n",
    "    prev = sess.run(bijs[i*2 + 1].forward(prev))\n",
    "    alphas.append(bijs[i*2 + 1].alpha)\n",
    "print(prev)\n",
    "prev = sess.run(As[-1] @ prev + shifts[-1])\n",
    "print(prev)\n"
   ]
  },
  {
   "cell_type": "code",
   "execution_count": null,
   "metadata": {},
   "outputs": [],
   "source": [
    "sess.run(mlp_bijector.forward(np.array([1, 0], dtype=np.float32)))"
   ]
  },
  {
   "cell_type": "code",
   "execution_count": null,
   "metadata": {},
   "outputs": [],
   "source": [
    "As"
   ]
  },
  {
   "cell_type": "code",
   "execution_count": null,
   "metadata": {},
   "outputs": [],
   "source": [
    "shifts"
   ]
  },
  {
   "cell_type": "code",
   "execution_count": null,
   "metadata": {},
   "outputs": [],
   "source": [
    "sess.run(alphas)"
   ]
  },
  {
   "cell_type": "code",
   "execution_count": null,
   "metadata": {},
   "outputs": [],
   "source": [
    "As[0]"
   ]
  },
  {
   "cell_type": "code",
   "execution_count": null,
   "metadata": {},
   "outputs": [],
   "source": [
    "sess.run(shifts[0])"
   ]
  },
  {
   "cell_type": "code",
   "execution_count": null,
   "metadata": {},
   "outputs": [],
   "source": [
    "sess.run(mlp_bijector\n",
    "         .forward_log_det_jacobian(\n",
    "             np.array([1., 1.], dtype=np.float32)\n",
    "         ))"
   ]
  },
  {
   "cell_type": "code",
   "execution_count": null,
   "metadata": {},
   "outputs": [],
   "source": [
    "for i, bij in enumerate(mlp_bijector.bijectors):\n",
    "    if i % 2 == 0:\n",
    "        print(sess.run(bij.forward_log_det_jacobian(np.array([1., 1.], dtype=np.float32))))"
   ]
  },
  {
   "cell_type": "code",
   "execution_count": null,
   "metadata": {},
   "outputs": [],
   "source": []
  }
 ],
 "metadata": {
  "kernelspec": {
   "display_name": "Python 3",
   "language": "python",
   "name": "python3"
  },
  "language_info": {
   "codemirror_mode": {
    "name": "ipython",
    "version": 3
   },
   "file_extension": ".py",
   "mimetype": "text/x-python",
   "name": "python",
   "nbconvert_exporter": "python",
   "pygments_lexer": "ipython3",
   "version": "3.6.8"
  }
 },
 "nbformat": 4,
 "nbformat_minor": 2
}
